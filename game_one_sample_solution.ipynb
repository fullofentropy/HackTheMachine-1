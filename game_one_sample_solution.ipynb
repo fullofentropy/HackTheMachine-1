{
 "cells": [
  {
   "cell_type": "markdown",
   "metadata": {},
   "source": [
    "# Game 1 Sample Solution\n",
    "***\n",
    "\n",
    "### 1. Create phrase vector calculated by the ratings of categories as defined by the CDC guidelines. Sample analysis provided below.\n",
    "\n",
    "|  \t| Description \t| -1 (positive impact) \t| 0 (no impact) \t| 1 \t| 2 \t| 3 \t|\n",
    "|-\t|-\t|-\t|-\t|-\t|-\t|-\t|\n",
    "| Number of covid cases in the community \t| Based on number of COVID Cases in particular area if data is available \t| --- \t| unspecified \t| lower than mean \t| within mean range \t| higher than mean \t|\n",
    "| Exposure to travel \t| Based on the likelihoodness that people outside the county (area) will congregate \t| household/local meet only \t| unspecified \t| low travel exposure \t| medium travel exposure \t| high travel exposure \t|\n",
    "| Setting of the event \t| Inside or outside \t| --- \t| unspecified \t| outside \t| inside \t| --- \t|\n",
    "| Length of the event \t| based on the the duration of the interaction \t| --- \t| unspecified \t| < 1 hour \t| >= 1 hour \t| --- \t|\n",
    "| Crowding of people at the event \t| Based on the density of population at the event \t| >5 people? \t| unspecified \t| low population density \t| medium population density \t| High Population Density \t|\n",
    "| Behavior \t| Based on likelihoodness that social distancing rules will be followed \t| --- \t| unspecified \t| alcohol/drug use OR presence of children \t| alcohol/drug use AND presence of children \t| --- \t|\n",
    "| Safety measure \t| if masks are required and/or if social distancing is required and/or if sanitation measures are implemented and/or etc. \t| score 1 if considered \t| unspecified \t| --- \t| --- \t| --- \t|\n",
    "\n",
    "| EXAMPLE: EATING OUTDOORS IN LA COUNTY \t| Ratings \t|\n",
    "|:-:\t|:-:\t|\n",
    "| Number of covid cases in the community \t| 2 \t|\n",
    "| Exposure to travel \t| 1 \t|\n",
    "| Setting of the event \t| 1 \t|\n",
    "| Length of the event \t| 2 \t|\n",
    "| Crowding of people at the event \t| 1 \t|\n",
    "| Behavior \t| 2 \t|\n",
    "| Safety measure \t| -1 \t|\n",
    "| TOTAL: \t| 8 \t|\n",
    "\n",
    "\n",
    "\n"
   ]
  },
  {
   "cell_type": "markdown",
   "metadata": {},
   "source": [
    "\n",
    "### 2. Use sample data set that covers the scope of activities decribed by the CDC guidelines do train a machine learning algorithm to create a phrase vector for each field. \n",
    "\n",
    "I found a free online program that trains a CSV file and outputs a model. \n",
    "https://monkeylearn.com/\n",
    "The setback is that you have to make tags for each table and manually rate the document for a portion of the dataset to train the algorithm. The larger the ratings/categories, the more manual labor involved to train the model\n",
    "\n",
    "\n",
    "### 3. Use the trained model to compile the risk ratings for all events\n",
    "\n",
    "### 4. Interpret and present data\n",
    "\n",
    "\n",
    "\n",
    "\n",
    "\n",
    "\n",
    "\n",
    "\n"
   ]
  },
  {
   "cell_type": "markdown",
   "metadata": {},
   "source": [
    "# CDC RESEARCH\n",
    "\n",
    "### Scope of activities\n",
    "The CDC provides guidances by audience, we have to ensure our data encompases the activities for all audiences. \n",
    "\n",
    "The groups mentioned:\n",
    "- Employers, Business Owners, and Community Leaders\n",
    "- Educators and School Administrators\n",
    "- individuals and consumers\n",
    "- parents and caregivers\n",
    "- healthcare professionals\n",
    "- health departments\n",
    "- federal, state, and local government\n",
    "- tribal agencies\n",
    "- global health\n",
    "\n",
    "https://www.cdc.gov/coronavirus/2019-ncov/communication/guidance.html\n",
    "\n",
    "\n",
    "### County Level Cases\n",
    "\n",
    "The CDC rates the county level cases as low, moderate, substantial, or high. We can use this data for category 1\n",
    "https://covid.cdc.gov/covid-data-tracker/#county-view\n",
    "\n",
    "\n",
    "\n"
   ]
  }
 ],
 "metadata": {
  "kernelspec": {
   "display_name": "Python 3",
   "language": "python",
   "name": "python3"
  },
  "language_info": {
   "codemirror_mode": {
    "name": "ipython",
    "version": 3
   },
   "file_extension": ".py",
   "mimetype": "text/x-python",
   "name": "python",
   "nbconvert_exporter": "python",
   "pygments_lexer": "ipython3",
   "version": "3.8.5"
  }
 },
 "nbformat": 4,
 "nbformat_minor": 4
}
