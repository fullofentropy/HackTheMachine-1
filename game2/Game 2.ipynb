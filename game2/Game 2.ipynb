{
 "cells": [
  {
   "cell_type": "markdown",
   "metadata": {},
   "source": [
    "# Game 2 - Dangerous Situations\n",
    "\n",
    "Pandemics are a prime area for extreme situations to arise. How we best handle unique situations will be up to you. What should someone do when they contract COVID-19? What precautions should doctors treating COVID take? What should someone do if they come in contact with COVID? Contestants will be tasked with developing an AI that provides solutions for these extreme conditions. When designing the AI, you'll have access to data from real-world doctors and how they are handling these situations. This information technology could help the public in a future extreme event."
   ]
  },
  {
   "cell_type": "markdown",
   "metadata": {},
   "source": [
    "## Brainstorming:\n",
    "- multiclass classification?"
   ]
  },
  {
   "cell_type": "code",
   "execution_count": null,
   "metadata": {},
   "outputs": [],
   "source": []
  }
 ],
 "metadata": {
  "kernelspec": {
   "display_name": "Python 3",
   "language": "python",
   "name": "python3"
  },
  "language_info": {
   "codemirror_mode": {
    "name": "ipython",
    "version": 3
   },
   "file_extension": ".py",
   "mimetype": "text/x-python",
   "name": "python",
   "nbconvert_exporter": "python",
   "pygments_lexer": "ipython3",
   "version": "3.8.2"
  }
 },
 "nbformat": 4,
 "nbformat_minor": 4
}
