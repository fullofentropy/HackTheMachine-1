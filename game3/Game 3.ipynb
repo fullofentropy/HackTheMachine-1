{
 "cells": [
  {
   "cell_type": "markdown",
   "metadata": {},
   "source": [
    "# Game 3 - Hospital Resources\n",
    "\n",
    "Skillfully allocating medical resources during a pandemic can save lives. Unexpected and extreme medical events not only disrupt hospitals' normal routines and protocol, but strain resources such as trained staff, space and pharmaceuticals, in addition to PPE and life-saving medical equipment. Determining how to most effectively allocate these resources is paramount to assuring the wellbeing of Sailors far from port.\n",
    "\n",
    "In this scenario, you will oversee the medical bay of the USS GHOST where COVID-19 has taken hold of the crew. Your task is to create an algorithm to deploy the ship's available resources in a manner that will ensure as many Sailors as possible recover from the virus."
   ]
  },
  {
   "cell_type": "markdown",
   "metadata": {},
   "source": [
    "## brainstorming:\n",
    "- reinforcement learning?"
   ]
  },
  {
   "cell_type": "code",
   "execution_count": 3,
   "metadata": {},
   "outputs": [],
   "source": [
    "import pandas as pd\n",
    "import numpy as np"
   ]
  },
  {
   "cell_type": "markdown",
   "metadata": {},
   "source": [
    "* +30 10 ventilators (reusable)\n",
    "* +20 10 oxygen masks (reusable)\n",
    "    * cannot be combined with ventilator\n",
    "* +15 10 plasma\n",
    "* +30 7 remdesivir\n",
    "* +25 20 Dexamethasone\n",
    "* +15 10 casirivimab\n",
    "* +10 17 chloroquine\n",
    "* 30 beds\n",
    "    * bed boosts health 5 points\n",
    "    * bed allocation required for other treatments\n",
    "* final health score = final health + bed bonus + rate of decline + treatment bonuses\n",
    "* penalty of -100 if any sailor final health is 0\n"
   ]
  },
  {
   "cell_type": "code",
   "execution_count": 135,
   "metadata": {},
   "outputs": [
    {
     "name": "stdout",
     "output_type": "stream",
     "text": [
      "        resource  count  amt_used reusable  health_bonus\n",
      "0            bed     30         0     True             5\n",
      "1     ventilator     10         0     True            30\n",
      "2    oxygen mask     10         0     True            20\n",
      "3         plasma     10         0    False            15\n",
      "4     remdesivir      7         0    False            30\n",
      "5  dexamethasone     20         0    False            25\n",
      "6    casirivimab     10         0    False            15\n",
      "7    chloroquine     17         0    False            10 \n",
      "\n",
      "    hp_start  hp_decline_rate\n",
      "ID                           \n",
      "1        100               -1\n",
      "2         75               -1\n",
      "3         65               -7\n",
      "4         55              -25\n",
      "5         33              -30\n",
      "6         89              -50\n",
      "7         90              -60\n",
      "8         45              -65\n",
      "9        100              -79\n",
      "10        95              -88\n",
      "11        60              -62\n",
      "12        72              -18\n",
      "13        55              -68\n",
      "14        28              -67\n",
      "15        39              -89\n",
      "16        91              -13\n",
      "17        95               -7\n",
      "18        99               -1\n",
      "19        88              -25\n",
      "20        20              -80\n"
     ]
    }
   ],
   "source": [
    "sailors_df = pd.read_csv(\"day1data.csv\", header=1, index_col=0)\n",
    "sailors_df.rename(columns={\"Health\":\"hp_start\", \"Rate of health decline\": \"hp_decline_rate\"}, inplace=True)\n",
    "columns = [\"resource\", \"count\", \"amt_used\", \"reusable\", \"health_bonus\"]\n",
    "data = np.array([[\"bed\", 30, 0, True, 5],\n",
    "          [\"ventilator\", 10, 0, True, 30],\n",
    "          [\"oxygen mask\", 10, 0, True, 20],\n",
    "          [\"plasma\", 10, 0, False, 15],\n",
    "          [\"remdesivir\", 7, 0, False, 30],\n",
    "          [\"dexamethasone\", 20, 0, False, 25],\n",
    "          [\"casirivimab\", 10, 0, False, 15],\n",
    "          [\"chloroquine\", 17, 0, False, 10]])\n",
    "resources_df = pd.DataFrame(data=data, columns=columns)\n",
    "for col in [\"count\", \"amt_used\", \"health_bonus\"]:\n",
    "    resources_df[col] = pd.to_numeric(resources_df[col])\n",
    "print(resources_df,\"\\n\")\n",
    "print(sailors_df)"
   ]
  },
  {
   "cell_type": "code",
   "execution_count": 141,
   "metadata": {
    "scrolled": true
   },
   "outputs": [
    {
     "data": {
      "text/plain": [
       "(    hp_start  hp_decline_rate  hp_final   bed ventilator oxygen mask  100_diff\n",
       " ID                                                                            \n",
       " 20        20              -80       -25  True       True         NaN       125\n",
       " 15        39              -89       -15  True       True         NaN       115\n",
       " 14        28              -67        -4  True       True         NaN       104\n",
       " 8         45              -65        15  True       True         NaN        85\n",
       " 13        55              -68        22  True       True         NaN        78\n",
       " 11        60              -62        33  True       True         NaN        67\n",
       " 5         33              -30        38  True       True         NaN        62\n",
       " 10        95              -88        42  True       True         NaN        58\n",
       " 9        100              -79        56  True       True         NaN        44\n",
       " 4         55              -25        65  True       True         NaN        35\n",
       " 7         90              -60        55  True        NaN        True        45\n",
       " 6         89              -50        64  True        NaN        True        36\n",
       " 12        72              -18        79  True        NaN        True        21\n",
       " 3         65               -7        83  True        NaN        True        17\n",
       " 19        88              -25        88  True        NaN        True        12\n",
       " 2         75               -1        99  True        NaN        True         1\n",
       " 16        91              -13       103  True        NaN        True        -3\n",
       " 17        95               -7       113  True        NaN        True       -13\n",
       " 18        99               -1       123  True        NaN        True       -23\n",
       " 1        100               -1       124  True        NaN        True       -24,\n",
       "         resource  count  amt_used reusable  health_bonus\n",
       " 0            bed     10        20     True             5\n",
       " 1     ventilator      0        10     True            30\n",
       " 2    oxygen mask      0        10     True            20\n",
       " 3         plasma     10         0    False            15\n",
       " 4     remdesivir      7         0    False            30\n",
       " 5  dexamethasone     20         0    False            25\n",
       " 6    casirivimab     10         0    False            15\n",
       " 7    chloroquine     17         0    False            10)"
      ]
     },
     "execution_count": 141,
     "metadata": {},
     "output_type": "execute_result"
    }
   ],
   "source": [
    "def use_resource(sailors_df, resources_df, resource, indices):\n",
    "    bonus_dict = {}\n",
    "    for r, bonus in zip(resources_df[\"resource\"], resources_df[\"health_bonus\"]):\n",
    "        bonus_dict[r] = int(bonus)\n",
    "\n",
    "    sailors_df.loc[indices, resource] = True\n",
    "    sailors_df.loc[sailors_df[resource] == True, \"hp_final\"] += bonus_dict[resource]\n",
    "    resources_df.loc[resources_df[\"resource\"] == resource, \"amt_used\"] = len(indices)\n",
    "    resources_df.loc[resources_df[\"resource\"] == resource, \"count\"] -= len(indices)\n",
    "\n",
    "def allocate_reusable(sailors_df, resources_df):    \n",
    "    add_beds = sailors_df.iloc[:30].index\n",
    "    use_resource(sailors_df, resources_df, \"bed\", add_beds)\n",
    "    \n",
    "    add_ventilators = sailors_df.iloc[:10].index\n",
    "    use_resource(sailors_df, resources_df, \"ventilator\", add_ventilators)\n",
    "    \n",
    "    oxymask_candidates = sailors_df[(sailors_df[\"ventilator\"]!=True) & (sailors_df[\"bed\"]==True)]\n",
    "    add_oxymask = oxymask_candidates.iloc[:10].index\n",
    "    use_resource(sailors_df, resources_df, \"oxygen mask\", add_oxymask)\n",
    "\n",
    "\n",
    "def allocation(sailors_df, resources_df):\n",
    "    resources_df = resources_df.copy()\n",
    "    sailors_df = sailors_df.copy()\n",
    "    sailors_df[\"hp_final\"] = sailors_df[\"hp_start\"]+sailors_df[\"hp_decline_rate\"]\n",
    "    sailors_df.sort_values(by=[\"hp_final\"], inplace=True)\n",
    "    \n",
    "    allocate_reusable(sailors_df, resources_df)\n",
    "    \n",
    "    sailors_df[\"100_diff\"] = 100 - sailors_df[\"hp_final\"]\n",
    "    \n",
    "    return sailors_df, resources_df\n",
    "\n",
    "def calc_final_score(allocation_df):\n",
    "    final_health = allocation_df[\"hp_final\"].apply(lambda x: 100 if x > 100 else x)\n",
    "    final_health = final_health.apply(lambda x: -100 if x < 1 else x)\n",
    "    return final_health.sum()\n"
   ]
  },
  {
   "cell_type": "code",
   "execution_count": 157,
   "metadata": {},
   "outputs": [
    {
     "name": "stdout",
     "output_type": "stream",
     "text": [
      "839\n",
      "    hp_start  hp_decline_rate  hp_final   bed ventilator oxygen mask  \\\n",
      "ID                                                                     \n",
      "20        20              -80         5  True       True         NaN   \n",
      "15        39              -89        15  True       True         NaN   \n",
      "14        28              -67        26  True       True         NaN   \n",
      "8         45              -65        15  True       True         NaN   \n",
      "13        55              -68        22  True       True         NaN   \n",
      "11        60              -62        33  True       True         NaN   \n",
      "5         33              -30        38  True       True         NaN   \n",
      "10        95              -88        72  True       True         NaN   \n",
      "9        100              -79        56  True       True         NaN   \n",
      "4         55              -25        65  True       True         NaN   \n",
      "7         90              -60        55  True        NaN        True   \n",
      "6         89              -50        64  True        NaN        True   \n",
      "12        72              -18        79  True        NaN        True   \n",
      "3         65               -7        83  True        NaN        True   \n",
      "19        88              -25        88  True        NaN        True   \n",
      "2         75               -1        99  True        NaN        True   \n",
      "16        91              -13       103  True        NaN        True   \n",
      "17        95               -7       113  True        NaN        True   \n",
      "18        99               -1       123  True        NaN        True   \n",
      "1        100               -1       124  True        NaN        True   \n",
      "\n",
      "    100_diff remdesivir  \n",
      "ID                       \n",
      "20       125       True  \n",
      "15       115       True  \n",
      "14       104       True  \n",
      "8         85        NaN  \n",
      "13        78        NaN  \n",
      "11        67        NaN  \n",
      "5         62        NaN  \n",
      "10        58       True  \n",
      "9         44        NaN  \n",
      "4         35        NaN  \n",
      "7         45        NaN  \n",
      "6         36        NaN  \n",
      "12        21        NaN  \n",
      "3         17        NaN  \n",
      "19        12        NaN  \n",
      "2          1        NaN  \n",
      "16        -3        NaN  \n",
      "17       -13        NaN  \n",
      "18       -23        NaN  \n",
      "1        -24        NaN  \n"
     ]
    },
    {
     "data": {
      "text/plain": [
       "1215"
      ]
     },
     "execution_count": 157,
     "metadata": {},
     "output_type": "execute_result"
    }
   ],
   "source": [
    "a_df, r_df = allocation(sailors_df, resources_df)\n",
    "print(calc_final_score(a_df))\n",
    "use_resource(a_df, r_df, \"remdesivir\", a_df.iloc[[0,1,2,7]].index)\n",
    "print(a_df)\n",
    "calc_final_score(a_df)"
   ]
  },
  {
   "cell_type": "code",
   "execution_count": null,
   "metadata": {},
   "outputs": [],
   "source": []
  },
  {
   "cell_type": "code",
   "execution_count": null,
   "metadata": {},
   "outputs": [],
   "source": []
  }
 ],
 "metadata": {
  "kernelspec": {
   "display_name": "Python 3",
   "language": "python",
   "name": "python3"
  },
  "language_info": {
   "codemirror_mode": {
    "name": "ipython",
    "version": 3
   },
   "file_extension": ".py",
   "mimetype": "text/x-python",
   "name": "python",
   "nbconvert_exporter": "python",
   "pygments_lexer": "ipython3",
   "version": "3.8.8"
  }
 },
 "nbformat": 4,
 "nbformat_minor": 4
}
