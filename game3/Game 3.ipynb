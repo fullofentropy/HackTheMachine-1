{
 "cells": [
  {
   "cell_type": "markdown",
   "metadata": {},
   "source": [
    "# Game 3 - Hospital Resources\n",
    "\n",
    "Skillfully allocating medical resources during a pandemic can save lives. Unexpected and extreme medical events not only disrupt hospitals' normal routines and protocol, but strain resources such as trained staff, space and pharmaceuticals, in addition to PPE and life-saving medical equipment. Determining how to most effectively allocate these resources is paramount to assuring the wellbeing of Sailors far from port.\n",
    "\n",
    "In this scenario, you will oversee the medical bay of the USS GHOST where COVID-19 has taken hold of the crew. Your task is to create an algorithm to deploy the ship's available resources in a manner that will ensure as many Sailors as possible recover from the virus."
   ]
  },
  {
   "cell_type": "markdown",
   "metadata": {},
   "source": [
    "## brainstorming:\n",
    "- reinforcement learning?"
   ]
  },
  {
   "cell_type": "code",
   "execution_count": 3,
   "metadata": {},
   "outputs": [],
   "source": [
    "import pandas as pd\n",
    "import numpy as np"
   ]
  },
  {
   "cell_type": "markdown",
   "metadata": {},
   "source": [
    "* +30 10 ventilators (reusable)\n",
    "* +20 10 oxygen masks (reusable)\n",
    "    * cannot be combined with ventilator\n",
    "* +15 10 plasma\n",
    "* +30 7 remdesivir\n",
    "* +25 20 Dexamethasone\n",
    "* +15 10 casirivimab\n",
    "* +10 17 chloroquine\n",
    "* 30 beds\n",
    "    * bed boosts health 5 points\n",
    "    * bed allocation required for other treatments\n",
    "* final health score = final health + bed bonus + rate of decline + treatment bonuses\n",
    "* penalty of -100 if any sailor final health is 0\n"
   ]
  },
  {
   "cell_type": "code",
   "execution_count": 238,
   "metadata": {},
   "outputs": [
    {
     "name": "stdout",
     "output_type": "stream",
     "text": [
      "        resource  count  amt_used reusable  health_bonus\n",
      "0            bed     30         0     True             5\n",
      "1     ventilator     10         0     True            30\n",
      "2    oxygen mask     10         0     True            20\n",
      "3         plasma     10         0    False            15\n",
      "4     remdesivir      7         0    False            30\n",
      "5  dexamethasone     20         0    False            25\n",
      "6    casirivimab     10         0    False            15\n",
      "7    chloroquine     17         0    False            10 \n",
      "\n",
      "    hp_start  hp_decline_rate\n",
      "ID                           \n",
      "1        100               -1\n",
      "2         75               -1\n",
      "3         65               -7\n",
      "4         55              -25\n",
      "5         33              -30\n",
      "6         89              -50\n",
      "7         90              -60\n",
      "8         45              -65\n",
      "9        100              -79\n",
      "10        95              -88\n",
      "11        60              -62\n",
      "12        72              -18\n",
      "13        55              -68\n",
      "14        28              -67\n",
      "15        39              -89\n",
      "16        91              -13\n",
      "17        95               -7\n",
      "18        99               -1\n",
      "19        88              -25\n",
      "20        20              -80\n"
     ]
    }
   ],
   "source": [
    "sailors_df = pd.read_csv(\"day1data.csv\", header=1, index_col=0)\n",
    "sailors_df.rename(columns={\"Health\":\"hp_start\", \"Rate of health decline\": \"hp_decline_rate\"}, inplace=True)\n",
    "columns = [\"resource\", \"count\", \"amt_used\", \"reusable\", \"health_bonus\"]\n",
    "data = np.array([[\"bed\", 30, 0, True, 5],\n",
    "          [\"ventilator\", 10, 0, True, 30],\n",
    "          [\"oxygen mask\", 10, 0, True, 20],\n",
    "          [\"plasma\", 10, 0, False, 15],\n",
    "          [\"remdesivir\", 7, 0, False, 30],\n",
    "          [\"dexamethasone\", 20, 0, False, 25],\n",
    "          [\"casirivimab\", 10, 0, False, 15],\n",
    "          [\"chloroquine\", 17, 0, False, 10]])\n",
    "resources_df = pd.DataFrame(data=data, columns=columns)\n",
    "for col in [\"count\", \"amt_used\", \"health_bonus\"]:\n",
    "    resources_df[col] = pd.to_numeric(resources_df[col])\n",
    "print(resources_df,\"\\n\")\n",
    "print(sailors_df)"
   ]
  },
  {
   "cell_type": "code",
   "execution_count": 249,
   "metadata": {
    "scrolled": true
   },
   "outputs": [],
   "source": [
    "def use_resource(sailors_df, resources_df, resource, indices):\n",
    "    bonus_dict = {}\n",
    "    for r, bonus in zip(resources_df[\"resource\"], resources_df[\"health_bonus\"]):\n",
    "        bonus_dict[r] = int(bonus)\n",
    "\n",
    "    sailors_df.loc[indices, resource] = True\n",
    "    sailors_df.loc[sailors_df[resource] == True, \"hp_final\"] += bonus_dict[resource]\n",
    "    resources_df.loc[resources_df[\"resource\"] == resource, \"amt_used\"] = len(indices)\n",
    "    resources_df.loc[resources_df[\"resource\"] == resource, \"count\"] -= len(indices)\n",
    "\n",
    "def allocate_reusable(sailors_df, resources_df):    \n",
    "    add_beds = sailors_df.iloc[:30].index\n",
    "    use_resource(sailors_df, resources_df, \"bed\", add_beds)\n",
    "    \n",
    "    add_ventilators = sailors_df.iloc[:10].index\n",
    "    use_resource(sailors_df, resources_df, \"ventilator\", add_ventilators)\n",
    "    \n",
    "    oxymask_candidates = sailors_df[(sailors_df[\"ventilator\"]!=True) & (sailors_df[\"bed\"]==True)]\n",
    "    add_oxymask = oxymask_candidates.iloc[:10].index\n",
    "    use_resource(sailors_df, resources_df, \"oxygen mask\", add_oxymask)\n",
    "\n",
    "def ded(sailors_df, resources_df, final_health):\n",
    "    minarray = []\n",
    "    for i in range(len(final_health)):\n",
    "        if final_health.iloc[i] <= 0:\n",
    "            y = final_health.iloc[i]  \n",
    "            for j in range(3, len(resources_df)):\n",
    "                x = y + resources_df.iloc[j,4]\n",
    "                minarray.append(x)             \n",
    "            m = min(k for k in minarray if k > 0)\n",
    "            bonus_used = m - y\n",
    "            idx = minarray.index(m)\n",
    "            resource = resources_df[\"resource\"].iloc[idx]\n",
    "            print(resource)\n",
    "            use_resource(sailors_df, resources_df, resource, sailors_df.iloc[i:i+1].index)\n",
    "            minarray = []\n",
    "\n",
    "def allocation(sailors_df, resources_df):\n",
    "    resources_df = resources_df.copy()\n",
    "    sailors_df = sailors_df.copy()\n",
    "    sailors_df[\"hp_final\"] = sailors_df[\"hp_start\"]+sailors_df[\"hp_decline_rate\"]\n",
    "    sailors_df.sort_values(by=[\"hp_final\"], inplace=True)\n",
    "    \n",
    "    allocate_reusable(sailors_df, resources_df)\n",
    "    ded(sailors_df, resources_df, sailors_df[\"hp_final\"])\n",
    "    \n",
    "    return sailors_df, resources_df\n",
    "\n",
    "def calc_final_score(allocation_df):\n",
    "    final_health = allocation_df[\"hp_final\"].apply(lambda x: 100 if x > 100 else x)\n",
    "    final_health = final_health.apply(lambda x: -100 if x < 1 else x)\n",
    "    return final_health.sum()\n",
    "\n",
    "def generate_output(sailors_df):\n",
    "    rename_dict = {\"hp_start\": \"Sailor Health\",\n",
    "                   \"hp_decline_rate\": \"Rate of health decline\",\n",
    "                   \"hp_final\": \"Total\"}\n",
    "    return sailors_df.rename(columns=rename_dict)"
   ]
  },
  {
   "cell_type": "code",
   "execution_count": 252,
   "metadata": {
    "scrolled": true
   },
   "outputs": [
    {
     "name": "stdout",
     "output_type": "stream",
     "text": [
      "ventilator\n",
      "    hp_start  hp_decline_rate  remdesivir  hp_final   bed ventilator  \\\n",
      "ID                                                                     \n",
      "20        20              -80           0         5  True       True   \n",
      "15        39              -89           0        15  True       True   \n",
      "14        28              -67           0        26  True       True   \n",
      "8         45              -65           0        45  True       True   \n",
      "13        55              -68           0        52  True       True   \n",
      "11        60              -62           0        63  True       True   \n",
      "5         33              -30           0        68  True       True   \n",
      "10        95              -88           0        72  True       True   \n",
      "9        100              -79           0        86  True       True   \n",
      "4         55              -25           0        95  True       True   \n",
      "7         90              -60           0        55  True        NaN   \n",
      "6         89              -50           0        64  True        NaN   \n",
      "12        72              -18           0        79  True        NaN   \n",
      "3         65               -7           0        83  True        NaN   \n",
      "19        88              -25           0        88  True        NaN   \n",
      "2         75               -1           0        99  True        NaN   \n",
      "16        91              -13           0       103  True        NaN   \n",
      "17        95               -7           0       113  True        NaN   \n",
      "18        99               -1           0       123  True        NaN   \n",
      "1        100               -1           0       124  True        NaN   \n",
      "\n",
      "   oxygen mask  \n",
      "ID              \n",
      "20         NaN  \n",
      "15         NaN  \n",
      "14         NaN  \n",
      "8          NaN  \n",
      "13         NaN  \n",
      "11         NaN  \n",
      "5          NaN  \n",
      "10         NaN  \n",
      "9          NaN  \n",
      "4          NaN  \n",
      "7         True  \n",
      "6         True  \n",
      "12        True  \n",
      "3         True  \n",
      "19        True  \n",
      "2         True  \n",
      "16        True  \n",
      "17        True  \n",
      "18        True  \n",
      "1         True  \n"
     ]
    }
   ],
   "source": [
    "a_df, r_df = allocation(sailors_df, resources_df)\n",
    "a_df[\"remdesivir\"] = 0\n",
    "print(a_df)\n",
    "generate_output(a_df)\n",
    "a_df.to_csv(\"Challenge3_Day1Submission.csv\")"
   ]
  },
  {
   "cell_type": "code",
   "execution_count": null,
   "metadata": {},
   "outputs": [],
   "source": []
  },
  {
   "cell_type": "code",
   "execution_count": null,
   "metadata": {},
   "outputs": [],
   "source": []
  }
 ],
 "metadata": {
  "kernelspec": {
   "display_name": "Python 3",
   "language": "python",
   "name": "python3"
  },
  "language_info": {
   "codemirror_mode": {
    "name": "ipython",
    "version": 3
   },
   "file_extension": ".py",
   "mimetype": "text/x-python",
   "name": "python",
   "nbconvert_exporter": "python",
   "pygments_lexer": "ipython3",
   "version": "3.8.8"
  }
 },
 "nbformat": 4,
 "nbformat_minor": 4
}
